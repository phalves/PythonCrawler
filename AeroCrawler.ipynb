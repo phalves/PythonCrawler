{
 "cells": [
  {
   "cell_type": "markdown",
   "id": "f2ec27eb",
   "metadata": {},
   "source": [
    "Python Crawler to receive notification when a update occurs"
   ]
  },
  {
   "cell_type": "code",
   "execution_count": 1,
   "id": "8dcf0949",
   "metadata": {},
   "outputs": [],
   "source": [
    "import re\n",
    "\n",
    "import requests\n",
    "\n",
    "#if your environment is not recognizing the correct library folder use this\n",
    "import sys\n",
    "sys.path.append(\"/Users/pauloalves/workspace/crawler/crawler/lib/python3.9/site-packages\")\n",
    "\n",
    "from bs4 import BeautifulSoup\n",
    "\n",
    "url = 'https://convocacaotemporarios.fab.mil.br/candidato/index.php'\n",
    "html_text = requests.get(url).text\n",
    "soup = BeautifulSoup(html_text, 'html.parser')"
   ]
  },
  {
   "cell_type": "markdown",
   "id": "8f03f5f5",
   "metadata": {},
   "source": [
    "Save a file with the source information that you want to compare.\n",
    "\n",
    "Note: You should run this code just once, at the beginning. If you run everytime you will get the same file always."
   ]
  },
  {
   "cell_type": "code",
   "execution_count": 2,
   "id": "f128f091",
   "metadata": {},
   "outputs": [],
   "source": [
    "#open file\n",
    "file = open(\"oldAero.txt\", \"w\")\n",
    " \n",
    "#convert variable to string\n",
    "str = soup.find(id=\"convocacao-recentes\").text\n",
    "file.write(str)\n",
    " \n",
    "#close file\n",
    "file.close()"
   ]
  },
  {
   "cell_type": "markdown",
   "id": "845185e0",
   "metadata": {},
   "source": [
    "Save the current information from the webside in a file to compare further."
   ]
  },
  {
   "cell_type": "code",
   "execution_count": 2,
   "id": "c9f77155",
   "metadata": {},
   "outputs": [],
   "source": [
    "#open file\n",
    "file = open(\"newAero.txt\", \"w\")\n",
    " \n",
    "#convert variable to string\n",
    "str = soup.find(id=\"convocacao-recentes\").text\n",
    "file.write(str)\n",
    "\n",
    " \n",
    "#close file\n",
    "file.close()"
   ]
  },
  {
   "cell_type": "markdown",
   "id": "9bc006b4",
   "metadata": {},
   "source": [
    "Now, lets compare the source file (old) with the file with current information (new)."
   ]
  },
  {
   "cell_type": "code",
   "execution_count": 3,
   "id": "26d12d7d",
   "metadata": {},
   "outputs": [
    {
     "name": "stdout",
     "output_type": "stream",
     "text": [
      "False\n"
     ]
    }
   ],
   "source": [
    "import filecmp\n",
    "\n",
    "f1 = \"oldAero.txt\"\n",
    "f2 = \"newAero.txt\"\n",
    "  \n",
    "# shallow comparison\n",
    "result = filecmp.cmp(f1, f2)\n",
    "print(result)"
   ]
  },
  {
   "cell_type": "code",
   "execution_count": null,
   "id": "b5b0bd2a",
   "metadata": {},
   "outputs": [],
   "source": []
  }
 ],
 "metadata": {
  "kernelspec": {
   "display_name": "Python 3",
   "language": "python",
   "name": "python3"
  },
  "language_info": {
   "codemirror_mode": {
    "name": "ipython",
    "version": 3
   },
   "file_extension": ".py",
   "mimetype": "text/x-python",
   "name": "python",
   "nbconvert_exporter": "python",
   "pygments_lexer": "ipython3",
   "version": "3.9.13"
  }
 },
 "nbformat": 4,
 "nbformat_minor": 5
}
