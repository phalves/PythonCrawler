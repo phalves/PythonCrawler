{
 "cells": [
  {
   "cell_type": "markdown",
   "id": "f2ec27eb",
   "metadata": {},
   "source": [
    "## Python Crawler to receive notification when a update occurs - Script Module\n",
    "\n",
    "### Requirements:\n",
    "* pip install python3\n",
    "* pip install sendgrid\n",
    "* pip install requests==2.22.0 beautifulsoup4==4.8.1\n",
    "\n",
    "This script expect you have the following files in the project directory\n",
    "\n",
    "* emailInformation.txt: Here you should add the From email address in the first line and the To email address in the second line\n",
    "* sendgrid.env must be in your git ignore file, and your API KEY must be saved in your environmental variables\n",
    "\n",
    "Source: \n",
    "* https://www.twilio.com/blog/web-scraping-and-parsing-html-in-python-with-beautiful-soup\n",
    "* https://www.geeksforgeeks.org/scheduling-python-scripts-on-linux/\n",
    "* https://app.sendgrid.com/guide/integrate/langs/python"
   ]
  },
  {
   "cell_type": "markdown",
   "id": "ffbb993f",
   "metadata": {},
   "source": [
    "### Script exploration\n",
    "\n",
    "First of all, these are the libs required to execute the script.\n",
    "\n",
    "To use SendGrid, please access https://sendgrid.com/ and create you account and generate your API Key.\n",
    "\n",
    "Source: https://app.sendgrid.com/guide/integrate/langs/python"
   ]
  },
  {
   "cell_type": "code",
   "execution_count": 1,
   "id": "47a06b09",
   "metadata": {},
   "outputs": [],
   "source": [
    "#pip install sendgrid"
   ]
  },
  {
   "cell_type": "code",
   "execution_count": 2,
   "id": "8dcf0949",
   "metadata": {},
   "outputs": [],
   "source": [
    "import re\n",
    "\n",
    "import requests\n",
    "import filecmp    \n",
    "import os\n",
    "\n",
    "#if your environment is not recognizing the correct library folder use this\n",
    "import sys\n",
    "#sys.path.append(\"/Users/pauloalves/workspace/crawler/crawler/lib/python3.9/site-packages\")\n",
    "\n",
    "# used to parser html source code\n",
    "from bs4 import BeautifulSoup\n",
    "\n",
    "# using SendGrid's Python Library\n",
    "# https://github.com/sendgrid/sendgrid-python\n",
    "from sendgrid import SendGridAPIClient\n",
    "from sendgrid.helpers.mail import Mail\n",
    "\n",
    "# used for generate and compare files\n",
    "from os.path import exists\n",
    "from datetime import date, datetime \n",
    "import shutil"
   ]
  },
  {
   "cell_type": "markdown",
   "id": "ad05329d",
   "metadata": {},
   "source": [
    "Now, lets start exploring the developed methods.\n",
    "\n",
    "*getContent* is a method to get data from a website using BeautifulSoup. \n",
    "\n",
    "To do so, this method request the website url, the HTML tag (ex: div), and the tag value where the information that you are looking for is available."
   ]
  },
  {
   "cell_type": "code",
   "execution_count": 3,
   "id": "f38245c1",
   "metadata": {},
   "outputs": [],
   "source": [
    "# params: \n",
    "#  _url: website address that you want to check\n",
    "#  _id: HTML tag that you want to explore\n",
    "def getContent(_url,_tag,_value):    \n",
    "    html_text = requests.get(_url).text\n",
    "    soup = BeautifulSoup(html_text, 'html.parser')\n",
    "    if _tag=='div':\n",
    "        return soup.find_all(_tag,class_=_value)\n",
    "    elif _tag=='id':\n",
    "        return soup.find(id=_value).text\n",
    "#     else\n",
    "#         res = requests.get(_url)\n",
    "#         return res.text"
   ]
  },
  {
   "cell_type": "markdown",
   "id": "0b2796c9",
   "metadata": {},
   "source": [
    "*saveContent* is a method to save the data from a website into a txt file\n",
    "\n",
    "return: void"
   ]
  },
  {
   "cell_type": "code",
   "execution_count": 4,
   "id": "88ec467a",
   "metadata": {},
   "outputs": [],
   "source": [
    "# params: \n",
    "#  _fileName: File name related to the file that you want to store the content\n",
    "#  _content: Content extracted from the website mentioned before \n",
    "def saveContent(_fileName,_content):\n",
    "    #open file\n",
    "    file = open(_fileName, \"w\")\n",
    "\n",
    "    #convert variable to string\n",
    "    file.write(repr(_content))\n",
    "\n",
    "    #close file\n",
    "    file.close()"
   ]
  },
  {
   "cell_type": "markdown",
   "id": "fd8a7cdd",
   "metadata": {},
   "source": [
    "*compareContent* is a method used to compare two files.\n",
    "\n",
    "Return: Boolean: True if the files are equal and False otherwise."
   ]
  },
  {
   "cell_type": "code",
   "execution_count": 5,
   "id": "f3d7d0f7",
   "metadata": {},
   "outputs": [],
   "source": [
    "# params: \n",
    "#  _file1: File that you want to compare\n",
    "#  _file2: File that you want to compare\n",
    "def compareContent(_file1, _file2):\n",
    "    #compare files\n",
    "    result = filecmp.cmp(_file1, _file2)\n",
    "    \n",
    "    return result"
   ]
  },
  {
   "cell_type": "markdown",
   "id": "abc043c2",
   "metadata": {},
   "source": [
    "*sendMail* is a method used send a notification by mail. This method expects a subject and a url that corresponds to the website that you are monitoring\n",
    "\n",
    "The email information, such as mail addresses of from and to should be stored in the *emailInformation.txt*. This file should be stored in the root folder of this project.\n",
    "\n",
    "This method expects to receive a subject and the url.\n",
    "\n",
    "Return: void"
   ]
  },
  {
   "cell_type": "code",
   "execution_count": 6,
   "id": "97c5a95a",
   "metadata": {},
   "outputs": [],
   "source": [
    "# params: \n",
    "#  _subject: String related to the subject that this crawler will verify\n",
    "def sendMail(_subject,_url):\n",
    "    f = open(\"emailInformation.txt\", \"r\")\n",
    "    _emailFrom = f.readline()\n",
    "    _emailTo = f.readline()\n",
    "\n",
    "    message = Mail(    \n",
    "        from_email=_emailFrom,\n",
    "        to_emails=_emailTo,\n",
    "        subject='Crawler Notification - '+_subject,\n",
    "        html_content='<strong>You have an update in the site that you are monitoring.</strong><br>'+_url+'<br>##webCrawler##')\n",
    "    try:\n",
    "        sg = SendGridAPIClient(os.environ.get('SENDGRID_API_KEY'))\n",
    "        response = sg.send(message)\n",
    "    except Exception as e:\n",
    "        print(e.message)"
   ]
  },
  {
   "cell_type": "markdown",
   "id": "21945583",
   "metadata": {},
   "source": [
    "*compareFiles* is a method designed to persist the source file, and generate a new version of it if needed.\n",
    "\n",
    "Return: Void"
   ]
  },
  {
   "cell_type": "code",
   "execution_count": 7,
   "id": "fa1b5ca1",
   "metadata": {},
   "outputs": [],
   "source": [
    "def compareFiles(_subjects,_contents,_urls):\n",
    "    for subject,content,url in zip(_subjects,_contents,_urls): \n",
    "        newFile = str(subject)+'New.txt'\n",
    "        oldFile = str(subject)+'Old.txt'\n",
    "\n",
    "        # verify if there is a source file to compare with the current website state\n",
    "        if exists(oldFile)==False:\n",
    "            saveContent(oldFile, content)\n",
    "\n",
    "        # save the current website state    \n",
    "        saveContent(newFile, content)\n",
    "\n",
    "        # store the result of file comparison. True if they are equal, False if they are not\n",
    "        result = compareContent(oldFile,newFile)\n",
    "        \n",
    "        # verify the result, if false, send an email to notify the stakeholders informing that there is an update\n",
    "        now = datetime.now().time()\n",
    "        if result==False:\n",
    "            print(str(date.today())+'-'+str(now)+'-['+subject+']-'+ 'Do something, there is an update in your site')\n",
    "            shutil.copyfile(oldFile, str(date.today())+'-'+oldFile)\n",
    "            shutil.copyfile(newFile,oldFile)\n",
    "            sendMail(str(subject),str(url))\n",
    "        else:\n",
    "            print(str(date.today())+'-'+str(now)+'-['+subject+']-'+'No changes')"
   ]
  },
  {
   "cell_type": "code",
   "execution_count": 8,
   "id": "dc76f196",
   "metadata": {},
   "outputs": [
    {
     "name": "stdout",
     "output_type": "stream",
     "text": [
      "2022-09-14-10:18:38.504670-[aero]-No changes\n",
      "2022-09-14-10:18:38.521153-[PMERJ]-No changes\n",
      "2022-09-14-10:18:38.521974-[UFRJ]-No changes\n"
     ]
    }
   ],
   "source": [
    "## MAIN ##\n",
    "aeroUrl = 'https://convocacaotemporarios.fab.mil.br/candidato/index.php'\n",
    "pmerjUrl = 'https://otvs.pmerj.rj.gov.br/atualizacoes.php'\n",
    "ufrjUrl = 'https://concursos.pr4.ufrj.br/index.php/56-concursos/concursos-em-andamento/edital-436-de-07-de-junho-de-2022/523-edital-n-436-de-07-de-junho-de-2022'\n",
    "urls = [aeroUrl,pmerjUrl,ufrjUrl]\n",
    "\n",
    "aeroContent = getContent(aeroUrl,'id','convocacao-recentes')\n",
    "pmerjContent = getContent(pmerjUrl, 'div', 'box-round bg-white-1 p-4 text-start')\n",
    "ufrjContent = getContent(ufrjUrl,'id','main')\n",
    "\n",
    "contents = [aeroContent,pmerjContent,ufrjContent]\n",
    "\n",
    "subjects = [\"aero\",\"PMERJ\",\"UFRJ\"]\n",
    "\n",
    "compareFiles(subjects,contents,urls)"
   ]
  },
  {
   "cell_type": "code",
   "execution_count": null,
   "id": "83cb6b8e",
   "metadata": {},
   "outputs": [],
   "source": []
  }
 ],
 "metadata": {
  "kernelspec": {
   "display_name": "Python 3",
   "language": "python",
   "name": "python3"
  },
  "language_info": {
   "codemirror_mode": {
    "name": "ipython",
    "version": 3
   },
   "file_extension": ".py",
   "mimetype": "text/x-python",
   "name": "python",
   "nbconvert_exporter": "python",
   "pygments_lexer": "ipython3",
   "version": "3.9.12"
  }
 },
 "nbformat": 4,
 "nbformat_minor": 5
}
